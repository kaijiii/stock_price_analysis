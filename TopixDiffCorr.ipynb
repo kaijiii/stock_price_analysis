{
 "cells": [
  {
   "cell_type": "code",
   "execution_count": 1,
   "metadata": {},
   "outputs": [],
   "source": [
    "%matplotlib inline\n",
    "import matplotlib.pyplot as plt\n",
    "import pandas as pd\n",
    "import seaborn as sns\n",
    "import numpy as np\n",
    "from scipy.stats import norm"
   ]
  },
  {
   "cell_type": "code",
   "execution_count": 2,
   "metadata": {},
   "outputs": [],
   "source": [
    "topix_data = pd.read_csv(\"./topix/topix2000-2018.csv\", encoding=\"shift-jis\",index_col='Date')"
   ]
  },
  {
   "cell_type": "code",
   "execution_count": 3,
   "metadata": {},
   "outputs": [],
   "source": [
    "usdjpy_data = pd.read_csv(\"USDJPY2.csv\", encoding=\"UTF-8\",index_col=\"日付\")"
   ]
  },
  {
   "cell_type": "code",
   "execution_count": null,
   "metadata": {},
   "outputs": [],
   "source": []
  },
  {
   "cell_type": "code",
   "execution_count": 4,
   "metadata": {},
   "outputs": [
    {
     "data": {
      "text/html": [
       "<div>\n",
       "<style scoped>\n",
       "    .dataframe tbody tr th:only-of-type {\n",
       "        vertical-align: middle;\n",
       "    }\n",
       "\n",
       "    .dataframe tbody tr th {\n",
       "        vertical-align: top;\n",
       "    }\n",
       "\n",
       "    .dataframe thead th {\n",
       "        text-align: right;\n",
       "    }\n",
       "</style>\n",
       "<table border=\"1\" class=\"dataframe\">\n",
       "  <thead>\n",
       "    <tr style=\"text-align: right;\">\n",
       "      <th></th>\n",
       "      <th>Open</th>\n",
       "      <th>High</th>\n",
       "      <th>Low</th>\n",
       "      <th>Close</th>\n",
       "    </tr>\n",
       "    <tr>\n",
       "      <th>Date</th>\n",
       "      <th></th>\n",
       "      <th></th>\n",
       "      <th></th>\n",
       "      <th></th>\n",
       "    </tr>\n",
       "  </thead>\n",
       "  <tbody>\n",
       "    <tr>\n",
       "      <th>2000-01-04</th>\n",
       "      <td>1726.21</td>\n",
       "      <td>1744.16</td>\n",
       "      <td>1710.34</td>\n",
       "      <td>1717.47</td>\n",
       "    </tr>\n",
       "    <tr>\n",
       "      <th>2000-01-05</th>\n",
       "      <td>1709.57</td>\n",
       "      <td>1709.57</td>\n",
       "      <td>1612.91</td>\n",
       "      <td>1651.84</td>\n",
       "    </tr>\n",
       "    <tr>\n",
       "      <th>2000-01-06</th>\n",
       "      <td>1654.14</td>\n",
       "      <td>1657.77</td>\n",
       "      <td>1609.30</td>\n",
       "      <td>1609.59</td>\n",
       "    </tr>\n",
       "    <tr>\n",
       "      <th>2000-01-07</th>\n",
       "      <td>1607.33</td>\n",
       "      <td>1609.22</td>\n",
       "      <td>1585.80</td>\n",
       "      <td>1599.01</td>\n",
       "    </tr>\n",
       "    <tr>\n",
       "      <th>2000-01-11</th>\n",
       "      <td>1607.12</td>\n",
       "      <td>1679.71</td>\n",
       "      <td>1607.12</td>\n",
       "      <td>1678.82</td>\n",
       "    </tr>\n",
       "  </tbody>\n",
       "</table>\n",
       "</div>"
      ],
      "text/plain": [
       "               Open     High      Low    Close\n",
       "Date                                          \n",
       "2000-01-04  1726.21  1744.16  1710.34  1717.47\n",
       "2000-01-05  1709.57  1709.57  1612.91  1651.84\n",
       "2000-01-06  1654.14  1657.77  1609.30  1609.59\n",
       "2000-01-07  1607.33  1609.22  1585.80  1599.01\n",
       "2000-01-11  1607.12  1679.71  1607.12  1678.82"
      ]
     },
     "execution_count": 4,
     "metadata": {},
     "output_type": "execute_result"
    }
   ],
   "source": [
    "topix_data.head()"
   ]
  },
  {
   "cell_type": "code",
   "execution_count": 5,
   "metadata": {},
   "outputs": [],
   "source": [
    "topix_data.index = pd.to_datetime(topix_data.index)"
   ]
  },
  {
   "cell_type": "code",
   "execution_count": 6,
   "metadata": {},
   "outputs": [
    {
     "data": {
      "text/plain": [
       "DatetimeIndex(['2000-01-04', '2000-01-05', '2000-01-06', '2000-01-07',\n",
       "               '2000-01-11', '2000-01-12', '2000-01-13', '2000-01-14',\n",
       "               '2000-01-17', '2000-01-18',\n",
       "               ...\n",
       "               '2018-12-14', '2018-12-17', '2018-12-18', '2018-12-19',\n",
       "               '2018-12-20', '2018-12-21', '2018-12-25', '2018-12-26',\n",
       "               '2018-12-27', '2018-12-28'],\n",
       "              dtype='datetime64[ns]', name='Date', length=4664, freq=None)"
      ]
     },
     "execution_count": 6,
     "metadata": {},
     "output_type": "execute_result"
    }
   ],
   "source": [
    "topix_data.index"
   ]
  },
  {
   "cell_type": "markdown",
   "metadata": {},
   "source": [
    "タイムゾーンを東京に設定"
   ]
  },
  {
   "cell_type": "code",
   "execution_count": 7,
   "metadata": {},
   "outputs": [],
   "source": [
    "topix_data.index = topix_data.index.tz_localize('Asia/Tokyo')"
   ]
  },
  {
   "cell_type": "markdown",
   "metadata": {},
   "source": [
    "東京証券取引所の開始時間を設定"
   ]
  },
  {
   "cell_type": "code",
   "execution_count": 8,
   "metadata": {},
   "outputs": [],
   "source": [
    "topix_data.index = topix_data.index + pd.Timedelta('0 days 8:00:00')"
   ]
  },
  {
   "cell_type": "code",
   "execution_count": 9,
   "metadata": {},
   "outputs": [
    {
     "data": {
      "text/plain": [
       "DatetimeIndex(['2000-01-04 08:00:00+09:00', '2000-01-05 08:00:00+09:00',\n",
       "               '2000-01-06 08:00:00+09:00', '2000-01-07 08:00:00+09:00',\n",
       "               '2000-01-11 08:00:00+09:00', '2000-01-12 08:00:00+09:00',\n",
       "               '2000-01-13 08:00:00+09:00', '2000-01-14 08:00:00+09:00',\n",
       "               '2000-01-17 08:00:00+09:00', '2000-01-18 08:00:00+09:00',\n",
       "               ...\n",
       "               '2018-12-14 08:00:00+09:00', '2018-12-17 08:00:00+09:00',\n",
       "               '2018-12-18 08:00:00+09:00', '2018-12-19 08:00:00+09:00',\n",
       "               '2018-12-20 08:00:00+09:00', '2018-12-21 08:00:00+09:00',\n",
       "               '2018-12-25 08:00:00+09:00', '2018-12-26 08:00:00+09:00',\n",
       "               '2018-12-27 08:00:00+09:00', '2018-12-28 08:00:00+09:00'],\n",
       "              dtype='datetime64[ns, Asia/Tokyo]', name='Date', length=4664, freq=None)"
      ]
     },
     "execution_count": 9,
     "metadata": {},
     "output_type": "execute_result"
    }
   ],
   "source": [
    "topix_data.index "
   ]
  },
  {
   "cell_type": "code",
   "execution_count": null,
   "metadata": {},
   "outputs": [],
   "source": []
  },
  {
   "cell_type": "code",
   "execution_count": 10,
   "metadata": {},
   "outputs": [
    {
     "data": {
      "text/html": [
       "<div>\n",
       "<style scoped>\n",
       "    .dataframe tbody tr th:only-of-type {\n",
       "        vertical-align: middle;\n",
       "    }\n",
       "\n",
       "    .dataframe tbody tr th {\n",
       "        vertical-align: top;\n",
       "    }\n",
       "\n",
       "    .dataframe thead th {\n",
       "        text-align: right;\n",
       "    }\n",
       "</style>\n",
       "<table border=\"1\" class=\"dataframe\">\n",
       "  <thead>\n",
       "    <tr style=\"text-align: right;\">\n",
       "      <th></th>\n",
       "      <th>終値</th>\n",
       "      <th>始値</th>\n",
       "      <th>高値</th>\n",
       "      <th>安値</th>\n",
       "      <th>前比%</th>\n",
       "    </tr>\n",
       "    <tr>\n",
       "      <th>日付</th>\n",
       "      <th></th>\n",
       "      <th></th>\n",
       "      <th></th>\n",
       "      <th></th>\n",
       "      <th></th>\n",
       "    </tr>\n",
       "  </thead>\n",
       "  <tbody>\n",
       "    <tr>\n",
       "      <th>2000-01-03</th>\n",
       "      <td>101.59</td>\n",
       "      <td>102.11</td>\n",
       "      <td>102.18</td>\n",
       "      <td>101.31</td>\n",
       "      <td>-0.66%</td>\n",
       "    </tr>\n",
       "    <tr>\n",
       "      <th>2000-01-04</th>\n",
       "      <td>103.27</td>\n",
       "      <td>101.46</td>\n",
       "      <td>103.28</td>\n",
       "      <td>101.40</td>\n",
       "      <td>1.65%</td>\n",
       "    </tr>\n",
       "    <tr>\n",
       "      <th>2000-01-05</th>\n",
       "      <td>104.29</td>\n",
       "      <td>103.28</td>\n",
       "      <td>104.40</td>\n",
       "      <td>102.76</td>\n",
       "      <td>0.99%</td>\n",
       "    </tr>\n",
       "    <tr>\n",
       "      <th>2000-01-06</th>\n",
       "      <td>105.33</td>\n",
       "      <td>104.32</td>\n",
       "      <td>105.55</td>\n",
       "      <td>103.97</td>\n",
       "      <td>1.00%</td>\n",
       "    </tr>\n",
       "    <tr>\n",
       "      <th>2000-01-07</th>\n",
       "      <td>105.36</td>\n",
       "      <td>105.27</td>\n",
       "      <td>105.91</td>\n",
       "      <td>104.85</td>\n",
       "      <td>0.03%</td>\n",
       "    </tr>\n",
       "  </tbody>\n",
       "</table>\n",
       "</div>"
      ],
      "text/plain": [
       "                終値      始値      高値      安値     前比%\n",
       "日付                                                \n",
       "2000-01-03  101.59  102.11  102.18  101.31  -0.66%\n",
       "2000-01-04  103.27  101.46  103.28  101.40   1.65%\n",
       "2000-01-05  104.29  103.28  104.40  102.76   0.99%\n",
       "2000-01-06  105.33  104.32  105.55  103.97   1.00%\n",
       "2000-01-07  105.36  105.27  105.91  104.85   0.03%"
      ]
     },
     "execution_count": 10,
     "metadata": {},
     "output_type": "execute_result"
    }
   ],
   "source": [
    "usdjpy_data.head()"
   ]
  },
  {
   "cell_type": "code",
   "execution_count": 11,
   "metadata": {},
   "outputs": [],
   "source": [
    "usdjpy_data.index = pd.to_datetime(usdjpy_data.index)"
   ]
  },
  {
   "cell_type": "code",
   "execution_count": 12,
   "metadata": {},
   "outputs": [
    {
     "data": {
      "text/plain": [
       "DatetimeIndex(['2000-01-03', '2000-01-04', '2000-01-05', '2000-01-06',\n",
       "               '2000-01-07', '2000-01-10', '2000-01-11', '2000-01-12',\n",
       "               '2000-01-13', '2000-01-14',\n",
       "               ...\n",
       "               '2018-12-19', '2018-12-20', '2018-12-21', '2018-12-23',\n",
       "               '2018-12-24', '2018-12-25', '2018-12-26', '2018-12-27',\n",
       "               '2018-12-28', '2018-12-30'],\n",
       "              dtype='datetime64[ns]', name='日付', length=4984, freq=None)"
      ]
     },
     "execution_count": 12,
     "metadata": {},
     "output_type": "execute_result"
    }
   ],
   "source": [
    "usdjpy_data.index"
   ]
  },
  {
   "cell_type": "markdown",
   "metadata": {},
   "source": [
    "タイムゾーンをアメリカ東時間に設定"
   ]
  },
  {
   "cell_type": "code",
   "execution_count": 13,
   "metadata": {},
   "outputs": [],
   "source": [
    "usdjpy_data.index=usdjpy_data.index.tz_localize('US/Eastern')"
   ]
  },
  {
   "cell_type": "markdown",
   "metadata": {},
   "source": [
    "ニューヨーク取引所の終了時間を設定"
   ]
  },
  {
   "cell_type": "code",
   "execution_count": 14,
   "metadata": {},
   "outputs": [],
   "source": [
    "usdjpy_data.index = usdjpy_data.index + pd.Timedelta('0 days 16:00:00')"
   ]
  },
  {
   "cell_type": "code",
   "execution_count": 15,
   "metadata": {},
   "outputs": [],
   "source": [
    "usdjpy_data.index =usdjpy_data.index.tz_convert('Asia/Tokyo')"
   ]
  },
  {
   "cell_type": "code",
   "execution_count": 16,
   "metadata": {},
   "outputs": [
    {
     "data": {
      "text/plain": [
       "DatetimeIndex(['2000-01-04 06:00:00+09:00', '2000-01-05 06:00:00+09:00',\n",
       "               '2000-01-06 06:00:00+09:00', '2000-01-07 06:00:00+09:00',\n",
       "               '2000-01-08 06:00:00+09:00', '2000-01-11 06:00:00+09:00',\n",
       "               '2000-01-12 06:00:00+09:00', '2000-01-13 06:00:00+09:00',\n",
       "               '2000-01-14 06:00:00+09:00', '2000-01-15 06:00:00+09:00',\n",
       "               ...\n",
       "               '2018-12-20 06:00:00+09:00', '2018-12-21 06:00:00+09:00',\n",
       "               '2018-12-22 06:00:00+09:00', '2018-12-24 06:00:00+09:00',\n",
       "               '2018-12-25 06:00:00+09:00', '2018-12-26 06:00:00+09:00',\n",
       "               '2018-12-27 06:00:00+09:00', '2018-12-28 06:00:00+09:00',\n",
       "               '2018-12-29 06:00:00+09:00', '2018-12-31 06:00:00+09:00'],\n",
       "              dtype='datetime64[ns, Asia/Tokyo]', name='日付', length=4984, freq=None)"
      ]
     },
     "execution_count": 16,
     "metadata": {},
     "output_type": "execute_result"
    }
   ],
   "source": [
    "usdjpy_data.index"
   ]
  },
  {
   "cell_type": "markdown",
   "metadata": {},
   "source": [
    "TOPIXと為替データを日付でマージするための処理"
   ]
  },
  {
   "cell_type": "code",
   "execution_count": 17,
   "metadata": {},
   "outputs": [],
   "source": [
    "topix_data.index = topix_data.index.strftime(\"%Y/%m/%d\")"
   ]
  },
  {
   "cell_type": "code",
   "execution_count": 18,
   "metadata": {},
   "outputs": [],
   "source": [
    "usdjpy_data.index = usdjpy_data.index.strftime(\"%Y/%m/%d\")"
   ]
  },
  {
   "cell_type": "code",
   "execution_count": 19,
   "metadata": {},
   "outputs": [],
   "source": [
    "merge = pd.merge(topix_data,usdjpy_data,left_index=True,right_index=True)"
   ]
  },
  {
   "cell_type": "code",
   "execution_count": 20,
   "metadata": {},
   "outputs": [
    {
     "data": {
      "text/html": [
       "<div>\n",
       "<style scoped>\n",
       "    .dataframe tbody tr th:only-of-type {\n",
       "        vertical-align: middle;\n",
       "    }\n",
       "\n",
       "    .dataframe tbody tr th {\n",
       "        vertical-align: top;\n",
       "    }\n",
       "\n",
       "    .dataframe thead th {\n",
       "        text-align: right;\n",
       "    }\n",
       "</style>\n",
       "<table border=\"1\" class=\"dataframe\">\n",
       "  <thead>\n",
       "    <tr style=\"text-align: right;\">\n",
       "      <th></th>\n",
       "      <th>Open</th>\n",
       "      <th>High</th>\n",
       "      <th>Low</th>\n",
       "      <th>Close</th>\n",
       "      <th>終値</th>\n",
       "      <th>始値</th>\n",
       "      <th>高値</th>\n",
       "      <th>安値</th>\n",
       "      <th>前比%</th>\n",
       "    </tr>\n",
       "  </thead>\n",
       "  <tbody>\n",
       "    <tr>\n",
       "      <th>2000/01/04</th>\n",
       "      <td>1726.21</td>\n",
       "      <td>1744.16</td>\n",
       "      <td>1710.34</td>\n",
       "      <td>1717.47</td>\n",
       "      <td>101.59</td>\n",
       "      <td>102.11</td>\n",
       "      <td>102.18</td>\n",
       "      <td>101.31</td>\n",
       "      <td>-0.66%</td>\n",
       "    </tr>\n",
       "    <tr>\n",
       "      <th>2000/01/05</th>\n",
       "      <td>1709.57</td>\n",
       "      <td>1709.57</td>\n",
       "      <td>1612.91</td>\n",
       "      <td>1651.84</td>\n",
       "      <td>103.27</td>\n",
       "      <td>101.46</td>\n",
       "      <td>103.28</td>\n",
       "      <td>101.40</td>\n",
       "      <td>1.65%</td>\n",
       "    </tr>\n",
       "    <tr>\n",
       "      <th>2000/01/06</th>\n",
       "      <td>1654.14</td>\n",
       "      <td>1657.77</td>\n",
       "      <td>1609.30</td>\n",
       "      <td>1609.59</td>\n",
       "      <td>104.29</td>\n",
       "      <td>103.28</td>\n",
       "      <td>104.40</td>\n",
       "      <td>102.76</td>\n",
       "      <td>0.99%</td>\n",
       "    </tr>\n",
       "    <tr>\n",
       "      <th>2000/01/07</th>\n",
       "      <td>1607.33</td>\n",
       "      <td>1609.22</td>\n",
       "      <td>1585.80</td>\n",
       "      <td>1599.01</td>\n",
       "      <td>105.33</td>\n",
       "      <td>104.32</td>\n",
       "      <td>105.55</td>\n",
       "      <td>103.97</td>\n",
       "      <td>1.00%</td>\n",
       "    </tr>\n",
       "    <tr>\n",
       "      <th>2000/01/11</th>\n",
       "      <td>1607.12</td>\n",
       "      <td>1679.71</td>\n",
       "      <td>1607.12</td>\n",
       "      <td>1678.82</td>\n",
       "      <td>105.11</td>\n",
       "      <td>105.12</td>\n",
       "      <td>105.39</td>\n",
       "      <td>104.30</td>\n",
       "      <td>-0.24%</td>\n",
       "    </tr>\n",
       "  </tbody>\n",
       "</table>\n",
       "</div>"
      ],
      "text/plain": [
       "               Open     High      Low    Close      終値      始値      高値  \\\n",
       "2000/01/04  1726.21  1744.16  1710.34  1717.47  101.59  102.11  102.18   \n",
       "2000/01/05  1709.57  1709.57  1612.91  1651.84  103.27  101.46  103.28   \n",
       "2000/01/06  1654.14  1657.77  1609.30  1609.59  104.29  103.28  104.40   \n",
       "2000/01/07  1607.33  1609.22  1585.80  1599.01  105.33  104.32  105.55   \n",
       "2000/01/11  1607.12  1679.71  1607.12  1678.82  105.11  105.12  105.39   \n",
       "\n",
       "                安値     前比%  \n",
       "2000/01/04  101.31  -0.66%  \n",
       "2000/01/05  101.40   1.65%  \n",
       "2000/01/06  102.76   0.99%  \n",
       "2000/01/07  103.97   1.00%  \n",
       "2000/01/11  104.30  -0.24%  "
      ]
     },
     "execution_count": 20,
     "metadata": {},
     "output_type": "execute_result"
    }
   ],
   "source": [
    "merge.head()"
   ]
  },
  {
   "cell_type": "code",
   "execution_count": 21,
   "metadata": {},
   "outputs": [
    {
     "data": {
      "text/html": [
       "<div>\n",
       "<style scoped>\n",
       "    .dataframe tbody tr th:only-of-type {\n",
       "        vertical-align: middle;\n",
       "    }\n",
       "\n",
       "    .dataframe tbody tr th {\n",
       "        vertical-align: top;\n",
       "    }\n",
       "\n",
       "    .dataframe thead th {\n",
       "        text-align: right;\n",
       "    }\n",
       "</style>\n",
       "<table border=\"1\" class=\"dataframe\">\n",
       "  <thead>\n",
       "    <tr style=\"text-align: right;\">\n",
       "      <th></th>\n",
       "      <th>Open</th>\n",
       "      <th>終値</th>\n",
       "    </tr>\n",
       "  </thead>\n",
       "  <tbody>\n",
       "    <tr>\n",
       "      <th>2000/01/04</th>\n",
       "      <td>1726.21</td>\n",
       "      <td>101.59</td>\n",
       "    </tr>\n",
       "    <tr>\n",
       "      <th>2000/01/05</th>\n",
       "      <td>1709.57</td>\n",
       "      <td>103.27</td>\n",
       "    </tr>\n",
       "    <tr>\n",
       "      <th>2000/01/06</th>\n",
       "      <td>1654.14</td>\n",
       "      <td>104.29</td>\n",
       "    </tr>\n",
       "    <tr>\n",
       "      <th>2000/01/07</th>\n",
       "      <td>1607.33</td>\n",
       "      <td>105.33</td>\n",
       "    </tr>\n",
       "    <tr>\n",
       "      <th>2000/01/11</th>\n",
       "      <td>1607.12</td>\n",
       "      <td>105.11</td>\n",
       "    </tr>\n",
       "  </tbody>\n",
       "</table>\n",
       "</div>"
      ],
      "text/plain": [
       "               Open      終値\n",
       "2000/01/04  1726.21  101.59\n",
       "2000/01/05  1709.57  103.27\n",
       "2000/01/06  1654.14  104.29\n",
       "2000/01/07  1607.33  105.33\n",
       "2000/01/11  1607.12  105.11"
      ]
     },
     "execution_count": 21,
     "metadata": {},
     "output_type": "execute_result"
    }
   ],
   "source": [
    "merge[['Open','終値']].head()"
   ]
  },
  {
   "cell_type": "code",
   "execution_count": null,
   "metadata": {},
   "outputs": [],
   "source": []
  },
  {
   "cell_type": "code",
   "execution_count": 22,
   "metadata": {},
   "outputs": [],
   "source": [
    "temp =merge[['Open','終値']].diff()"
   ]
  },
  {
   "cell_type": "code",
   "execution_count": 23,
   "metadata": {},
   "outputs": [
    {
     "data": {
      "text/plain": [
       "Index(['Open', '終値'], dtype='object')"
      ]
     },
     "execution_count": 23,
     "metadata": {},
     "output_type": "execute_result"
    }
   ],
   "source": [
    "temp.columns"
   ]
  },
  {
   "cell_type": "code",
   "execution_count": 24,
   "metadata": {},
   "outputs": [],
   "source": [
    "temp.columns = ['TOPIX', 'EXCH']"
   ]
  },
  {
   "cell_type": "code",
   "execution_count": 25,
   "metadata": {},
   "outputs": [
    {
     "data": {
      "text/html": [
       "<div>\n",
       "<style scoped>\n",
       "    .dataframe tbody tr th:only-of-type {\n",
       "        vertical-align: middle;\n",
       "    }\n",
       "\n",
       "    .dataframe tbody tr th {\n",
       "        vertical-align: top;\n",
       "    }\n",
       "\n",
       "    .dataframe thead th {\n",
       "        text-align: right;\n",
       "    }\n",
       "</style>\n",
       "<table border=\"1\" class=\"dataframe\">\n",
       "  <thead>\n",
       "    <tr style=\"text-align: right;\">\n",
       "      <th></th>\n",
       "      <th>TOPIX</th>\n",
       "      <th>EXCH</th>\n",
       "    </tr>\n",
       "  </thead>\n",
       "  <tbody>\n",
       "    <tr>\n",
       "      <th>2000/01/04</th>\n",
       "      <td>NaN</td>\n",
       "      <td>NaN</td>\n",
       "    </tr>\n",
       "    <tr>\n",
       "      <th>2000/01/05</th>\n",
       "      <td>-16.64</td>\n",
       "      <td>1.68</td>\n",
       "    </tr>\n",
       "    <tr>\n",
       "      <th>2000/01/06</th>\n",
       "      <td>-55.43</td>\n",
       "      <td>1.02</td>\n",
       "    </tr>\n",
       "    <tr>\n",
       "      <th>2000/01/07</th>\n",
       "      <td>-46.81</td>\n",
       "      <td>1.04</td>\n",
       "    </tr>\n",
       "    <tr>\n",
       "      <th>2000/01/11</th>\n",
       "      <td>-0.21</td>\n",
       "      <td>-0.22</td>\n",
       "    </tr>\n",
       "  </tbody>\n",
       "</table>\n",
       "</div>"
      ],
      "text/plain": [
       "            TOPIX  EXCH\n",
       "2000/01/04    NaN   NaN\n",
       "2000/01/05 -16.64  1.68\n",
       "2000/01/06 -55.43  1.02\n",
       "2000/01/07 -46.81  1.04\n",
       "2000/01/11  -0.21 -0.22"
      ]
     },
     "execution_count": 25,
     "metadata": {},
     "output_type": "execute_result"
    }
   ],
   "source": [
    "temp.head()"
   ]
  },
  {
   "cell_type": "markdown",
   "metadata": {},
   "source": [
    "500日間ローリング相関を計算"
   ]
  },
  {
   "cell_type": "markdown",
   "metadata": {},
   "source": [
    "同時相関（終値＝ドルの値）"
   ]
  },
  {
   "cell_type": "code",
   "execution_count": 26,
   "metadata": {},
   "outputs": [],
   "source": [
    "rollingcorr =temp[\"EXCH\"].rolling(500).corr(temp[\"TOPIX\"]) #1"
   ]
  },
  {
   "cell_type": "markdown",
   "metadata": {},
   "source": [
    "＄の値を1日先行（為替先行）"
   ]
  },
  {
   "cell_type": "code",
   "execution_count": 27,
   "metadata": {},
   "outputs": [],
   "source": [
    "rollingcorrm1 =temp[\"EXCH\"].rolling(500).corr(temp[\"TOPIX\"].shift(-1)) #1"
   ]
  },
  {
   "cell_type": "markdown",
   "metadata": {},
   "source": [
    "＄の値を1日遅らせる（株価先行）"
   ]
  },
  {
   "cell_type": "code",
   "execution_count": 28,
   "metadata": {},
   "outputs": [],
   "source": [
    "rollingcorrp1 =temp[\"EXCH\"].rolling(500).corr(temp[\"TOPIX\"].shift(+1)) #1"
   ]
  },
  {
   "cell_type": "code",
   "execution_count": 29,
   "metadata": {},
   "outputs": [
    {
     "data": {
      "text/plain": [
       "Text(0.5, 1.0, 'TOPIX-為替相場の相関')"
      ]
     },
     "execution_count": 29,
     "metadata": {},
     "output_type": "execute_result"
    },
    {
     "data": {
      "image/png": "[encoded data removed]",
      "text/plain": [
       "<Figure size 432x288 with 1 Axes>"
      ]
     },
     "metadata": {
      "needs_background": "light"
     },
     "output_type": "display_data"
    }
   ],
   "source": [
    "import matplotlib.dates as mdates\n",
    "rollingcorrp1.index = pd.to_datetime(rollingcorrp1.index)\n",
    "fig, ax1 = plt.subplots()\n",
    "\n",
    "ax1.plot(rollingcorrp1.index,rollingcorr,color='green',linestyle='dotted',label=\"同時相関\")\n",
    "ax1.plot(rollingcorrp1.index,rollingcorrm1,color='black',linestyle='dotted',label=\"為替先行\")\n",
    "ax1.plot(rollingcorrp1.index,rollingcorrp1,color='gray',linestyle='dotted',label=\"株価先行\")\n",
    "\n",
    "# Formatterでx軸の日付ラベルを年に設定\n",
    "xfmt = mdates.DateFormatter(\"%y\")\n",
    "\n",
    "# DayLocatorで間隔を年数に\n",
    "xloc = mdates.YearLocator()\n",
    "\n",
    "ax1.xaxis.set_major_locator(xloc)\n",
    "ax1.xaxis.set_major_formatter(xfmt)\n",
    "\n",
    "plt.legend(loc='upper right')\n",
    "plt.title('TOPIX-為替相場の相関',loc='center')\n"
   ]
  },
  {
   "cell_type": "code",
   "execution_count": null,
   "metadata": {},
   "outputs": [],
   "source": []
  }
 ],
 "metadata": {
  "kernelspec": {
   "display_name": "Python 3",
   "language": "python",
   "name": "python3"
  },
  "language_info": {
   "codemirror_mode": {
    "name": "ipython",
    "version": 3
   },
   "file_extension": ".py",
   "mimetype": "text/x-python",
   "name": "python",
   "nbconvert_exporter": "python",
   "pygments_lexer": "ipython3",
   "version": "3.6.6"
  }
 },
 "nbformat": 4,
 "nbformat_minor": 2
}
