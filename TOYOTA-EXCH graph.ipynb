{
 "cells": [
  {
   "cell_type": "code",
   "execution_count": 1,
   "metadata": {},
   "outputs": [],
   "source": [
    "%matplotlib inline\n",
    "import matplotlib.pyplot as plt\n",
    "import pandas as pd\n",
    "import seaborn as sns\n",
    "import numpy as np\n",
    "from scipy.stats import norm\n",
    "from statsmodels.tsa.vector_ar.var_model import VAR"
   ]
  },
  {
   "cell_type": "code",
   "execution_count": 5,
   "metadata": {},
   "outputs": [],
   "source": [
    "toyota_data = pd.read_csv(\"./toyota.csv\", encoding=\"shift-jis\",index_col='日付')"
   ]
  },
  {
   "cell_type": "code",
   "execution_count": 6,
   "metadata": {},
   "outputs": [],
   "source": [
    "toyota_data.index = pd.to_datetime(toyota_data.index)"
   ]
  },
  {
   "cell_type": "code",
   "execution_count": 7,
   "metadata": {},
   "outputs": [],
   "source": [
    "toyota_data.index = toyota_data.index.tz_localize('Asia/Tokyo')"
   ]
  },
  {
   "cell_type": "code",
   "execution_count": 8,
   "metadata": {},
   "outputs": [],
   "source": [
    "toyota_data.index = toyota_data.index + pd.Timedelta('0 days 8:00:00')"
   ]
  },
  {
   "cell_type": "code",
   "execution_count": null,
   "metadata": {},
   "outputs": [],
   "source": []
  },
  {
   "cell_type": "code",
   "execution_count": null,
   "metadata": {},
   "outputs": [],
   "source": []
  },
  {
   "cell_type": "code",
   "execution_count": 9,
   "metadata": {},
   "outputs": [],
   "source": [
    "usdjpy_data = pd.read_csv(\"USDJPY2.csv\", encoding=\"UTF-8\",index_col=\"日付\")"
   ]
  },
  {
   "cell_type": "code",
   "execution_count": 10,
   "metadata": {},
   "outputs": [],
   "source": [
    "usdjpy_data.index = pd.to_datetime(usdjpy_data.index)"
   ]
  },
  {
   "cell_type": "code",
   "execution_count": 11,
   "metadata": {},
   "outputs": [],
   "source": [
    "usdjpy_data.index=usdjpy_data.index.tz_localize('US/Eastern')"
   ]
  },
  {
   "cell_type": "code",
   "execution_count": 12,
   "metadata": {},
   "outputs": [],
   "source": [
    "usdjpy_data.index = usdjpy_data.index + pd.Timedelta('0 days 16:00:00')"
   ]
  },
  {
   "cell_type": "code",
   "execution_count": 13,
   "metadata": {},
   "outputs": [],
   "source": [
    "usdjpy_data.index =usdjpy_data.index.tz_convert('Asia/Tokyo')"
   ]
  },
  {
   "cell_type": "code",
   "execution_count": null,
   "metadata": {},
   "outputs": [],
   "source": []
  },
  {
   "cell_type": "code",
   "execution_count": 14,
   "metadata": {},
   "outputs": [],
   "source": [
    "toyota_data.index = toyota_data.index.strftime(\"%Y/%m/%d\")"
   ]
  },
  {
   "cell_type": "code",
   "execution_count": 15,
   "metadata": {},
   "outputs": [],
   "source": [
    "usdjpy_data.index = usdjpy_data.index.strftime(\"%Y/%m/%d\")"
   ]
  },
  {
   "cell_type": "code",
   "execution_count": 16,
   "metadata": {},
   "outputs": [],
   "source": [
    "merge = pd.merge(toyota_data,usdjpy_data,left_index=True,right_index=True)"
   ]
  },
  {
   "cell_type": "code",
   "execution_count": 17,
   "metadata": {},
   "outputs": [],
   "source": [
    "merge.index = pd.to_datetime(merge.index)"
   ]
  },
  {
   "cell_type": "code",
   "execution_count": 18,
   "metadata": {},
   "outputs": [
    {
     "data": {
      "text/html": [
       "<div>\n",
       "<style scoped>\n",
       "    .dataframe tbody tr th:only-of-type {\n",
       "        vertical-align: middle;\n",
       "    }\n",
       "\n",
       "    .dataframe tbody tr th {\n",
       "        vertical-align: top;\n",
       "    }\n",
       "\n",
       "    .dataframe thead th {\n",
       "        text-align: right;\n",
       "    }\n",
       "</style>\n",
       "<table border=\"1\" class=\"dataframe\">\n",
       "  <thead>\n",
       "    <tr style=\"text-align: right;\">\n",
       "      <th></th>\n",
       "      <th>始値_x</th>\n",
       "      <th>高値_x</th>\n",
       "      <th>安値_x</th>\n",
       "      <th>終値_x</th>\n",
       "      <th>出来高</th>\n",
       "      <th>終値調整値</th>\n",
       "      <th>終値_y</th>\n",
       "      <th>始値_y</th>\n",
       "      <th>高値_y</th>\n",
       "      <th>安値_y</th>\n",
       "      <th>前比%</th>\n",
       "    </tr>\n",
       "  </thead>\n",
       "  <tbody>\n",
       "    <tr>\n",
       "      <th>2000-01-04</th>\n",
       "      <td>4990</td>\n",
       "      <td>5000</td>\n",
       "      <td>4860</td>\n",
       "      <td>4940</td>\n",
       "      <td>2229000</td>\n",
       "      <td>4940</td>\n",
       "      <td>101.59</td>\n",
       "      <td>102.11</td>\n",
       "      <td>102.18</td>\n",
       "      <td>101.31</td>\n",
       "      <td>-0.66%</td>\n",
       "    </tr>\n",
       "    <tr>\n",
       "      <th>2000-01-05</th>\n",
       "      <td>4690</td>\n",
       "      <td>4900</td>\n",
       "      <td>4670</td>\n",
       "      <td>4890</td>\n",
       "      <td>5388000</td>\n",
       "      <td>4890</td>\n",
       "      <td>103.27</td>\n",
       "      <td>101.46</td>\n",
       "      <td>103.28</td>\n",
       "      <td>101.40</td>\n",
       "      <td>1.65%</td>\n",
       "    </tr>\n",
       "    <tr>\n",
       "      <th>2000-01-06</th>\n",
       "      <td>4810</td>\n",
       "      <td>4850</td>\n",
       "      <td>4390</td>\n",
       "      <td>4390</td>\n",
       "      <td>5653000</td>\n",
       "      <td>4390</td>\n",
       "      <td>104.29</td>\n",
       "      <td>103.28</td>\n",
       "      <td>104.40</td>\n",
       "      <td>102.76</td>\n",
       "      <td>0.99%</td>\n",
       "    </tr>\n",
       "    <tr>\n",
       "      <th>2000-01-07</th>\n",
       "      <td>4350</td>\n",
       "      <td>4570</td>\n",
       "      <td>4260</td>\n",
       "      <td>4430</td>\n",
       "      <td>4818000</td>\n",
       "      <td>4430</td>\n",
       "      <td>105.33</td>\n",
       "      <td>104.32</td>\n",
       "      <td>105.55</td>\n",
       "      <td>103.97</td>\n",
       "      <td>1.00%</td>\n",
       "    </tr>\n",
       "    <tr>\n",
       "      <th>2000-01-11</th>\n",
       "      <td>4680</td>\n",
       "      <td>4720</td>\n",
       "      <td>4600</td>\n",
       "      <td>4620</td>\n",
       "      <td>4164000</td>\n",
       "      <td>4620</td>\n",
       "      <td>105.11</td>\n",
       "      <td>105.12</td>\n",
       "      <td>105.39</td>\n",
       "      <td>104.30</td>\n",
       "      <td>-0.24%</td>\n",
       "    </tr>\n",
       "  </tbody>\n",
       "</table>\n",
       "</div>"
      ],
      "text/plain": [
       "            始値_x  高値_x  安値_x  終値_x      出来高  終値調整値    終値_y    始値_y    高値_y  \\\n",
       "2000-01-04  4990  5000  4860  4940  2229000   4940  101.59  102.11  102.18   \n",
       "2000-01-05  4690  4900  4670  4890  5388000   4890  103.27  101.46  103.28   \n",
       "2000-01-06  4810  4850  4390  4390  5653000   4390  104.29  103.28  104.40   \n",
       "2000-01-07  4350  4570  4260  4430  4818000   4430  105.33  104.32  105.55   \n",
       "2000-01-11  4680  4720  4600  4620  4164000   4620  105.11  105.12  105.39   \n",
       "\n",
       "              安値_y     前比%  \n",
       "2000-01-04  101.31  -0.66%  \n",
       "2000-01-05  101.40   1.65%  \n",
       "2000-01-06  102.76   0.99%  \n",
       "2000-01-07  103.97   1.00%  \n",
       "2000-01-11  104.30  -0.24%  "
      ]
     },
     "execution_count": 18,
     "metadata": {},
     "output_type": "execute_result"
    }
   ],
   "source": [
    "merge.head()"
   ]
  },
  {
   "cell_type": "code",
   "execution_count": 20,
   "metadata": {},
   "outputs": [],
   "source": [
    "merge=merge[['始値_x','終値_y']]"
   ]
  },
  {
   "cell_type": "code",
   "execution_count": 21,
   "metadata": {},
   "outputs": [],
   "source": [
    "merge.columns = ['TOYOTA', 'EXCH']"
   ]
  },
  {
   "cell_type": "code",
   "execution_count": 22,
   "metadata": {},
   "outputs": [
    {
     "data": {
      "text/html": [
       "<div>\n",
       "<style scoped>\n",
       "    .dataframe tbody tr th:only-of-type {\n",
       "        vertical-align: middle;\n",
       "    }\n",
       "\n",
       "    .dataframe tbody tr th {\n",
       "        vertical-align: top;\n",
       "    }\n",
       "\n",
       "    .dataframe thead th {\n",
       "        text-align: right;\n",
       "    }\n",
       "</style>\n",
       "<table border=\"1\" class=\"dataframe\">\n",
       "  <thead>\n",
       "    <tr style=\"text-align: right;\">\n",
       "      <th></th>\n",
       "      <th>TOYOTA</th>\n",
       "      <th>EXCH</th>\n",
       "    </tr>\n",
       "  </thead>\n",
       "  <tbody>\n",
       "    <tr>\n",
       "      <th>2000-01-04</th>\n",
       "      <td>4990</td>\n",
       "      <td>101.59</td>\n",
       "    </tr>\n",
       "    <tr>\n",
       "      <th>2000-01-05</th>\n",
       "      <td>4690</td>\n",
       "      <td>103.27</td>\n",
       "    </tr>\n",
       "    <tr>\n",
       "      <th>2000-01-06</th>\n",
       "      <td>4810</td>\n",
       "      <td>104.29</td>\n",
       "    </tr>\n",
       "    <tr>\n",
       "      <th>2000-01-07</th>\n",
       "      <td>4350</td>\n",
       "      <td>105.33</td>\n",
       "    </tr>\n",
       "    <tr>\n",
       "      <th>2000-01-11</th>\n",
       "      <td>4680</td>\n",
       "      <td>105.11</td>\n",
       "    </tr>\n",
       "  </tbody>\n",
       "</table>\n",
       "</div>"
      ],
      "text/plain": [
       "            TOYOTA    EXCH\n",
       "2000-01-04    4990  101.59\n",
       "2000-01-05    4690  103.27\n",
       "2000-01-06    4810  104.29\n",
       "2000-01-07    4350  105.33\n",
       "2000-01-11    4680  105.11"
      ]
     },
     "execution_count": 22,
     "metadata": {},
     "output_type": "execute_result"
    }
   ],
   "source": [
    "merge.head()"
   ]
  },
  {
   "cell_type": "code",
   "execution_count": null,
   "metadata": {},
   "outputs": [],
   "source": []
  },
  {
   "cell_type": "code",
   "execution_count": 23,
   "metadata": {},
   "outputs": [
    {
     "data": {
      "text/plain": [
       "<matplotlib.legend.Legend at 0x1cd064e5710>"
      ]
     },
     "execution_count": 23,
     "metadata": {},
     "output_type": "execute_result"
    },
    {
     "data": {
      "image/png": "[encoded data removed]",
      "text/plain": [
       "<Figure size 432x288 with 2 Axes>"
      ]
     },
     "metadata": {
      "needs_background": "light"
     },
     "output_type": "display_data"
    }
   ],
   "source": [
    "fig, ax1 = plt.subplots()\n",
    "ax1.plot(merge['TOYOTA'],color='red',linestyle='solid')\n",
    "ax2 = ax1.twinx()\n",
    "ax2.plot(merge['EXCH'],linestyle='solid')\n",
    "ax1.legend()\n",
    "ax2.legend()"
   ]
  },
  {
   "cell_type": "code",
   "execution_count": null,
   "metadata": {},
   "outputs": [],
   "source": []
  }
 ],
 "metadata": {
  "kernelspec": {
   "display_name": "Python 3",
   "language": "python",
   "name": "python3"
  },
  "language_info": {
   "codemirror_mode": {
    "name": "ipython",
    "version": 3
   },
   "file_extension": ".py",
   "mimetype": "text/x-python",
   "name": "python",
   "nbconvert_exporter": "python",
   "pygments_lexer": "ipython3",
   "version": "3.6.6"
  }
 },
 "nbformat": 4,
 "nbformat_minor": 2
}
